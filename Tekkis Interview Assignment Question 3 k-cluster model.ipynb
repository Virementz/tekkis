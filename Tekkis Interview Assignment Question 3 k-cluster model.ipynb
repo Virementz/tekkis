{
 "cells": [
  {
   "cell_type": "markdown",
   "id": "ded323af",
   "metadata": {},
   "source": [
    "# Import Libraries"
   ]
  },
  {
   "cell_type": "code",
   "execution_count": 1,
   "id": "dbd69df2",
   "metadata": {},
   "outputs": [
    {
     "name": "stdout",
     "output_type": "stream",
     "text": [
      "Requirement already satisfied: openpyxl in c:\\users\\danny\\anaconda3\\lib\\site-packages (3.0.7)\n",
      "Requirement already satisfied: et-xmlfile in c:\\users\\danny\\anaconda3\\lib\\site-packages (from openpyxl) (1.0.1)\n",
      "Requirement already satisfied: plotly in c:\\users\\danny\\anaconda3\\lib\\site-packages (5.3.1)\n",
      "Requirement already satisfied: six in c:\\users\\danny\\anaconda3\\lib\\site-packages (from plotly) (1.15.0)\n",
      "Requirement already satisfied: tenacity>=6.2.0 in c:\\users\\danny\\anaconda3\\lib\\site-packages (from plotly) (8.0.1)\n"
     ]
    }
   ],
   "source": [
    "!pip install openpyxl\n",
    "!pip install plotly"
   ]
  },
  {
   "cell_type": "code",
   "execution_count": 2,
   "id": "037247fd",
   "metadata": {},
   "outputs": [
    {
     "data": {
      "text/html": [
       "        <script type=\"text/javascript\">\n",
       "        window.PlotlyConfig = {MathJaxConfig: 'local'};\n",
       "        if (window.MathJax) {MathJax.Hub.Config({SVG: {font: \"STIX-Web\"}});}\n",
       "        if (typeof require !== 'undefined') {\n",
       "        require.undef(\"plotly\");\n",
       "        requirejs.config({\n",
       "            paths: {\n",
       "                'plotly': ['https://cdn.plot.ly/plotly-2.4.2.min']\n",
       "            }\n",
       "        });\n",
       "        require(['plotly'], function(Plotly) {\n",
       "            window._Plotly = Plotly;\n",
       "        });\n",
       "        }\n",
       "        </script>\n",
       "        "
      ]
     },
     "metadata": {},
     "output_type": "display_data"
    }
   ],
   "source": [
    "# Linear Algebra\n",
    "import numpy as np\n",
    "\n",
    "# Data Processing\n",
    "import pandas as pd\n",
    "\n",
    "# Data Visualization\n",
    "import seaborn as sns\n",
    "import matplotlib.pyplot as plt\n",
    "import plotly.express as px\n",
    "\n",
    "import warnings\n",
    "warnings.filterwarnings(\"ignore\")\n",
    "\n",
    "from plotly.offline import init_notebook_mode, iplot\n",
    "init_notebook_mode(connected=True)"
   ]
  },
  {
   "cell_type": "markdown",
   "id": "52c9a8c8",
   "metadata": {},
   "source": [
    "# Import data from Github"
   ]
  },
  {
   "cell_type": "code",
   "execution_count": 3,
   "id": "c23b0be1",
   "metadata": {},
   "outputs": [],
   "source": [
    "url = 'https://github.com/Virementz/tekkis/raw/main/reservation_raw%20data_edited.xlsx'"
   ]
  },
  {
   "cell_type": "code",
   "execution_count": 4,
   "id": "9ea724c7",
   "metadata": {},
   "outputs": [],
   "source": [
    "xls = pd.ExcelFile(url)"
   ]
  },
  {
   "cell_type": "code",
   "execution_count": 5,
   "id": "de8d7f16",
   "metadata": {},
   "outputs": [],
   "source": [
    "df = pd.read_excel(url)"
   ]
  },
  {
   "cell_type": "code",
   "execution_count": 6,
   "id": "5a23c88a",
   "metadata": {},
   "outputs": [
    {
     "data": {
      "text/plain": [
       "<bound method DataFrame.info of       Unnamed: 0 Unnamed: 1   Unnamed: 2 Unnamed: 3  Unnamed: 4  \\\n",
       "0            mid   bookings  hoursbooked  paidspend  promospend   \n",
       "1              1         17         1497    8169.77     1804.16   \n",
       "2              2          8         1483   11282.62         NaN   \n",
       "3              3         41         1441    6525.24     2288.46   \n",
       "4              4         52         1269   12160.09     1298.61   \n",
       "...          ...        ...          ...        ...         ...   \n",
       "11653      11653          1            0      10.56         NaN   \n",
       "11654      11654          1            0      10.93         NaN   \n",
       "11655      11655          3            0      25.94         NaN   \n",
       "11656      11656          1            0          7         NaN   \n",
       "11657      11657          1            0        NaN        8.48   \n",
       "\n",
       "           Unnamed: 5  Unnamed: 6  Unnamed: 7  Unnamed: 8  Unnamed: 9  \\\n",
       "0      paidspend/hour         NaN         NaN         NaN         NaN   \n",
       "1            5.457428         NaN         NaN         NaN         NaN   \n",
       "2             7.60797         NaN         NaN         NaN         NaN   \n",
       "3            4.528272         NaN         NaN         NaN         NaN   \n",
       "4            9.582419         NaN         NaN         NaN         NaN   \n",
       "...               ...         ...         ...         ...         ...   \n",
       "11653               0         NaN         NaN         NaN         NaN   \n",
       "11654               0         NaN         NaN         NaN         NaN   \n",
       "11655               0         NaN         NaN         NaN         NaN   \n",
       "11656               0         NaN         NaN         NaN         NaN   \n",
       "11657               0         NaN         NaN         NaN         NaN   \n",
       "\n",
       "       Unnamed: 10  Unnamed: 11  Unnamed: 12  Unnamed: 13  Unnamed: 14  \\\n",
       "0              NaN          NaN          NaN          NaN          NaN   \n",
       "1              NaN          NaN          NaN          NaN          NaN   \n",
       "2              NaN          NaN          NaN          NaN          NaN   \n",
       "3              NaN          NaN          NaN          NaN          NaN   \n",
       "4              NaN          NaN          NaN          NaN          NaN   \n",
       "...            ...          ...          ...          ...          ...   \n",
       "11653          NaN          NaN          NaN          NaN          NaN   \n",
       "11654          NaN          NaN          NaN          NaN          NaN   \n",
       "11655          NaN          NaN          NaN          NaN          NaN   \n",
       "11656          NaN          NaN          NaN          NaN          NaN   \n",
       "11657          NaN          NaN          NaN          NaN          NaN   \n",
       "\n",
       "       Unnamed: 15  \n",
       "0              NaN  \n",
       "1              NaN  \n",
       "2              NaN  \n",
       "3              NaN  \n",
       "4              NaN  \n",
       "...            ...  \n",
       "11653          NaN  \n",
       "11654          NaN  \n",
       "11655          NaN  \n",
       "11656          NaN  \n",
       "11657          NaN  \n",
       "\n",
       "[11658 rows x 16 columns]>"
      ]
     },
     "execution_count": 6,
     "metadata": {},
     "output_type": "execute_result"
    }
   ],
   "source": [
    "df.info"
   ]
  },
  {
   "cell_type": "markdown",
   "id": "d5a5fb35",
   "metadata": {},
   "source": [
    "# Data Reading, Understanding & Cleaning"
   ]
  },
  {
   "cell_type": "markdown",
   "id": "0b42a17c",
   "metadata": {},
   "source": [
    "Drop null column and rows"
   ]
  },
  {
   "cell_type": "code",
   "execution_count": 7,
   "id": "2625e2db",
   "metadata": {},
   "outputs": [
    {
     "data": {
      "text/html": [
       "<div>\n",
       "<style scoped>\n",
       "    .dataframe tbody tr th:only-of-type {\n",
       "        vertical-align: middle;\n",
       "    }\n",
       "\n",
       "    .dataframe tbody tr th {\n",
       "        vertical-align: top;\n",
       "    }\n",
       "\n",
       "    .dataframe thead th {\n",
       "        text-align: right;\n",
       "    }\n",
       "</style>\n",
       "<table border=\"1\" class=\"dataframe\">\n",
       "  <thead>\n",
       "    <tr style=\"text-align: right;\">\n",
       "      <th></th>\n",
       "      <th>Unnamed: 0</th>\n",
       "      <th>Unnamed: 1</th>\n",
       "      <th>Unnamed: 2</th>\n",
       "      <th>Unnamed: 3</th>\n",
       "      <th>Unnamed: 4</th>\n",
       "      <th>Unnamed: 5</th>\n",
       "    </tr>\n",
       "  </thead>\n",
       "  <tbody>\n",
       "    <tr>\n",
       "      <th>0</th>\n",
       "      <td>mid</td>\n",
       "      <td>bookings</td>\n",
       "      <td>hoursbooked</td>\n",
       "      <td>paidspend</td>\n",
       "      <td>promospend</td>\n",
       "      <td>paidspend/hour</td>\n",
       "    </tr>\n",
       "    <tr>\n",
       "      <th>1</th>\n",
       "      <td>1</td>\n",
       "      <td>17</td>\n",
       "      <td>1497</td>\n",
       "      <td>8169.77</td>\n",
       "      <td>1804.16</td>\n",
       "      <td>5.457428</td>\n",
       "    </tr>\n",
       "    <tr>\n",
       "      <th>2</th>\n",
       "      <td>2</td>\n",
       "      <td>8</td>\n",
       "      <td>1483</td>\n",
       "      <td>11282.62</td>\n",
       "      <td>NaN</td>\n",
       "      <td>7.60797</td>\n",
       "    </tr>\n",
       "    <tr>\n",
       "      <th>3</th>\n",
       "      <td>3</td>\n",
       "      <td>41</td>\n",
       "      <td>1441</td>\n",
       "      <td>6525.24</td>\n",
       "      <td>2288.46</td>\n",
       "      <td>4.528272</td>\n",
       "    </tr>\n",
       "    <tr>\n",
       "      <th>4</th>\n",
       "      <td>4</td>\n",
       "      <td>52</td>\n",
       "      <td>1269</td>\n",
       "      <td>12160.09</td>\n",
       "      <td>1298.61</td>\n",
       "      <td>9.582419</td>\n",
       "    </tr>\n",
       "    <tr>\n",
       "      <th>...</th>\n",
       "      <td>...</td>\n",
       "      <td>...</td>\n",
       "      <td>...</td>\n",
       "      <td>...</td>\n",
       "      <td>...</td>\n",
       "      <td>...</td>\n",
       "    </tr>\n",
       "    <tr>\n",
       "      <th>11653</th>\n",
       "      <td>11653</td>\n",
       "      <td>1</td>\n",
       "      <td>0</td>\n",
       "      <td>10.56</td>\n",
       "      <td>NaN</td>\n",
       "      <td>0</td>\n",
       "    </tr>\n",
       "    <tr>\n",
       "      <th>11654</th>\n",
       "      <td>11654</td>\n",
       "      <td>1</td>\n",
       "      <td>0</td>\n",
       "      <td>10.93</td>\n",
       "      <td>NaN</td>\n",
       "      <td>0</td>\n",
       "    </tr>\n",
       "    <tr>\n",
       "      <th>11655</th>\n",
       "      <td>11655</td>\n",
       "      <td>3</td>\n",
       "      <td>0</td>\n",
       "      <td>25.94</td>\n",
       "      <td>NaN</td>\n",
       "      <td>0</td>\n",
       "    </tr>\n",
       "    <tr>\n",
       "      <th>11656</th>\n",
       "      <td>11656</td>\n",
       "      <td>1</td>\n",
       "      <td>0</td>\n",
       "      <td>7</td>\n",
       "      <td>NaN</td>\n",
       "      <td>0</td>\n",
       "    </tr>\n",
       "    <tr>\n",
       "      <th>11657</th>\n",
       "      <td>11657</td>\n",
       "      <td>1</td>\n",
       "      <td>0</td>\n",
       "      <td>NaN</td>\n",
       "      <td>8.48</td>\n",
       "      <td>0</td>\n",
       "    </tr>\n",
       "  </tbody>\n",
       "</table>\n",
       "<p>11658 rows × 6 columns</p>\n",
       "</div>"
      ],
      "text/plain": [
       "      Unnamed: 0 Unnamed: 1   Unnamed: 2 Unnamed: 3  Unnamed: 4  \\\n",
       "0            mid   bookings  hoursbooked  paidspend  promospend   \n",
       "1              1         17         1497    8169.77     1804.16   \n",
       "2              2          8         1483   11282.62         NaN   \n",
       "3              3         41         1441    6525.24     2288.46   \n",
       "4              4         52         1269   12160.09     1298.61   \n",
       "...          ...        ...          ...        ...         ...   \n",
       "11653      11653          1            0      10.56         NaN   \n",
       "11654      11654          1            0      10.93         NaN   \n",
       "11655      11655          3            0      25.94         NaN   \n",
       "11656      11656          1            0          7         NaN   \n",
       "11657      11657          1            0        NaN        8.48   \n",
       "\n",
       "           Unnamed: 5  \n",
       "0      paidspend/hour  \n",
       "1            5.457428  \n",
       "2             7.60797  \n",
       "3            4.528272  \n",
       "4            9.582419  \n",
       "...               ...  \n",
       "11653               0  \n",
       "11654               0  \n",
       "11655               0  \n",
       "11656               0  \n",
       "11657               0  \n",
       "\n",
       "[11658 rows x 6 columns]"
      ]
     },
     "execution_count": 7,
     "metadata": {},
     "output_type": "execute_result"
    }
   ],
   "source": [
    "df.drop(df.columns.to_series()[\"Unnamed: 6\":\"Unnamed: 15\"], axis=1)"
   ]
  },
  {
   "cell_type": "code",
   "execution_count": 8,
   "id": "4138cd9c",
   "metadata": {},
   "outputs": [
    {
     "data": {
      "text/html": [
       "<div>\n",
       "<style scoped>\n",
       "    .dataframe tbody tr th:only-of-type {\n",
       "        vertical-align: middle;\n",
       "    }\n",
       "\n",
       "    .dataframe tbody tr th {\n",
       "        vertical-align: top;\n",
       "    }\n",
       "\n",
       "    .dataframe thead th {\n",
       "        text-align: right;\n",
       "    }\n",
       "</style>\n",
       "<table border=\"1\" class=\"dataframe\">\n",
       "  <thead>\n",
       "    <tr style=\"text-align: right;\">\n",
       "      <th></th>\n",
       "      <th>mid</th>\n",
       "      <th>bookings</th>\n",
       "      <th>hoursbooked</th>\n",
       "      <th>paidspend</th>\n",
       "      <th>promospend</th>\n",
       "      <th>paidspend/hour</th>\n",
       "      <th>NaN</th>\n",
       "      <th>NaN</th>\n",
       "      <th>NaN</th>\n",
       "      <th>NaN</th>\n",
       "      <th>NaN</th>\n",
       "      <th>NaN</th>\n",
       "      <th>NaN</th>\n",
       "      <th>NaN</th>\n",
       "      <th>NaN</th>\n",
       "      <th>NaN</th>\n",
       "    </tr>\n",
       "  </thead>\n",
       "  <tbody>\n",
       "    <tr>\n",
       "      <th>1</th>\n",
       "      <td>1</td>\n",
       "      <td>17</td>\n",
       "      <td>1497</td>\n",
       "      <td>8169.77</td>\n",
       "      <td>1804.16</td>\n",
       "      <td>5.457428</td>\n",
       "      <td>NaN</td>\n",
       "      <td>NaN</td>\n",
       "      <td>NaN</td>\n",
       "      <td>NaN</td>\n",
       "      <td>NaN</td>\n",
       "      <td>NaN</td>\n",
       "      <td>NaN</td>\n",
       "      <td>NaN</td>\n",
       "      <td>NaN</td>\n",
       "      <td>NaN</td>\n",
       "    </tr>\n",
       "    <tr>\n",
       "      <th>2</th>\n",
       "      <td>2</td>\n",
       "      <td>8</td>\n",
       "      <td>1483</td>\n",
       "      <td>11282.62</td>\n",
       "      <td>NaN</td>\n",
       "      <td>7.60797</td>\n",
       "      <td>NaN</td>\n",
       "      <td>NaN</td>\n",
       "      <td>NaN</td>\n",
       "      <td>NaN</td>\n",
       "      <td>NaN</td>\n",
       "      <td>NaN</td>\n",
       "      <td>NaN</td>\n",
       "      <td>NaN</td>\n",
       "      <td>NaN</td>\n",
       "      <td>NaN</td>\n",
       "    </tr>\n",
       "    <tr>\n",
       "      <th>3</th>\n",
       "      <td>3</td>\n",
       "      <td>41</td>\n",
       "      <td>1441</td>\n",
       "      <td>6525.24</td>\n",
       "      <td>2288.46</td>\n",
       "      <td>4.528272</td>\n",
       "      <td>NaN</td>\n",
       "      <td>NaN</td>\n",
       "      <td>NaN</td>\n",
       "      <td>NaN</td>\n",
       "      <td>NaN</td>\n",
       "      <td>NaN</td>\n",
       "      <td>NaN</td>\n",
       "      <td>NaN</td>\n",
       "      <td>NaN</td>\n",
       "      <td>NaN</td>\n",
       "    </tr>\n",
       "    <tr>\n",
       "      <th>4</th>\n",
       "      <td>4</td>\n",
       "      <td>52</td>\n",
       "      <td>1269</td>\n",
       "      <td>12160.09</td>\n",
       "      <td>1298.61</td>\n",
       "      <td>9.582419</td>\n",
       "      <td>NaN</td>\n",
       "      <td>NaN</td>\n",
       "      <td>NaN</td>\n",
       "      <td>NaN</td>\n",
       "      <td>NaN</td>\n",
       "      <td>NaN</td>\n",
       "      <td>NaN</td>\n",
       "      <td>NaN</td>\n",
       "      <td>NaN</td>\n",
       "      <td>NaN</td>\n",
       "    </tr>\n",
       "    <tr>\n",
       "      <th>5</th>\n",
       "      <td>5</td>\n",
       "      <td>14</td>\n",
       "      <td>1234</td>\n",
       "      <td>12630.49</td>\n",
       "      <td>2035.69</td>\n",
       "      <td>10.235405</td>\n",
       "      <td>NaN</td>\n",
       "      <td>NaN</td>\n",
       "      <td>NaN</td>\n",
       "      <td>NaN</td>\n",
       "      <td>NaN</td>\n",
       "      <td>NaN</td>\n",
       "      <td>NaN</td>\n",
       "      <td>NaN</td>\n",
       "      <td>NaN</td>\n",
       "      <td>NaN</td>\n",
       "    </tr>\n",
       "  </tbody>\n",
       "</table>\n",
       "</div>"
      ],
      "text/plain": [
       "0 mid bookings hoursbooked paidspend promospend paidspend/hour  NaN  NaN  NaN  \\\n",
       "1   1       17        1497   8169.77    1804.16       5.457428  NaN  NaN  NaN   \n",
       "2   2        8        1483  11282.62        NaN        7.60797  NaN  NaN  NaN   \n",
       "3   3       41        1441   6525.24    2288.46       4.528272  NaN  NaN  NaN   \n",
       "4   4       52        1269  12160.09    1298.61       9.582419  NaN  NaN  NaN   \n",
       "5   5       14        1234  12630.49    2035.69      10.235405  NaN  NaN  NaN   \n",
       "\n",
       "0  NaN  NaN  NaN  NaN  NaN  NaN  NaN  \n",
       "1  NaN  NaN  NaN  NaN  NaN  NaN  NaN  \n",
       "2  NaN  NaN  NaN  NaN  NaN  NaN  NaN  \n",
       "3  NaN  NaN  NaN  NaN  NaN  NaN  NaN  \n",
       "4  NaN  NaN  NaN  NaN  NaN  NaN  NaN  \n",
       "5  NaN  NaN  NaN  NaN  NaN  NaN  NaN  "
      ]
     },
     "execution_count": 8,
     "metadata": {},
     "output_type": "execute_result"
    }
   ],
   "source": [
    "df.columns = df.iloc[0]\n",
    "df = df[1:]\n",
    "df.head()"
   ]
  },
  {
   "cell_type": "code",
   "execution_count": 9,
   "id": "6970b8cc",
   "metadata": {},
   "outputs": [],
   "source": [
    "df=df.dropna(axis=1, how='all')"
   ]
  },
  {
   "cell_type": "code",
   "execution_count": 10,
   "id": "73b80aee",
   "metadata": {},
   "outputs": [
    {
     "data": {
      "text/html": [
       "<div>\n",
       "<style scoped>\n",
       "    .dataframe tbody tr th:only-of-type {\n",
       "        vertical-align: middle;\n",
       "    }\n",
       "\n",
       "    .dataframe tbody tr th {\n",
       "        vertical-align: top;\n",
       "    }\n",
       "\n",
       "    .dataframe thead th {\n",
       "        text-align: right;\n",
       "    }\n",
       "</style>\n",
       "<table border=\"1\" class=\"dataframe\">\n",
       "  <thead>\n",
       "    <tr style=\"text-align: right;\">\n",
       "      <th></th>\n",
       "      <th>mid</th>\n",
       "      <th>bookings</th>\n",
       "      <th>hoursbooked</th>\n",
       "      <th>paidspend</th>\n",
       "      <th>promospend</th>\n",
       "      <th>paidspend/hour</th>\n",
       "    </tr>\n",
       "  </thead>\n",
       "  <tbody>\n",
       "    <tr>\n",
       "      <th>1</th>\n",
       "      <td>1</td>\n",
       "      <td>17</td>\n",
       "      <td>1497</td>\n",
       "      <td>8169.77</td>\n",
       "      <td>1804.16</td>\n",
       "      <td>5.457428</td>\n",
       "    </tr>\n",
       "    <tr>\n",
       "      <th>2</th>\n",
       "      <td>2</td>\n",
       "      <td>8</td>\n",
       "      <td>1483</td>\n",
       "      <td>11282.62</td>\n",
       "      <td>NaN</td>\n",
       "      <td>7.60797</td>\n",
       "    </tr>\n",
       "    <tr>\n",
       "      <th>3</th>\n",
       "      <td>3</td>\n",
       "      <td>41</td>\n",
       "      <td>1441</td>\n",
       "      <td>6525.24</td>\n",
       "      <td>2288.46</td>\n",
       "      <td>4.528272</td>\n",
       "    </tr>\n",
       "    <tr>\n",
       "      <th>4</th>\n",
       "      <td>4</td>\n",
       "      <td>52</td>\n",
       "      <td>1269</td>\n",
       "      <td>12160.09</td>\n",
       "      <td>1298.61</td>\n",
       "      <td>9.582419</td>\n",
       "    </tr>\n",
       "    <tr>\n",
       "      <th>5</th>\n",
       "      <td>5</td>\n",
       "      <td>14</td>\n",
       "      <td>1234</td>\n",
       "      <td>12630.49</td>\n",
       "      <td>2035.69</td>\n",
       "      <td>10.235405</td>\n",
       "    </tr>\n",
       "  </tbody>\n",
       "</table>\n",
       "</div>"
      ],
      "text/plain": [
       "0 mid bookings hoursbooked paidspend promospend paidspend/hour\n",
       "1   1       17        1497   8169.77    1804.16       5.457428\n",
       "2   2        8        1483  11282.62        NaN        7.60797\n",
       "3   3       41        1441   6525.24    2288.46       4.528272\n",
       "4   4       52        1269  12160.09    1298.61       9.582419\n",
       "5   5       14        1234  12630.49    2035.69      10.235405"
      ]
     },
     "execution_count": 10,
     "metadata": {},
     "output_type": "execute_result"
    }
   ],
   "source": [
    "df.head()"
   ]
  },
  {
   "cell_type": "code",
   "execution_count": 11,
   "id": "66dfb66f",
   "metadata": {},
   "outputs": [
    {
     "data": {
      "text/plain": [
       "Index(['mid', 'bookings', 'hoursbooked', 'paidspend', 'promospend',\n",
       "       'paidspend/hour'],\n",
       "      dtype='object', name=0)"
      ]
     },
     "execution_count": 11,
     "metadata": {},
     "output_type": "execute_result"
    }
   ],
   "source": [
    "df.columns"
   ]
  },
  {
   "cell_type": "code",
   "execution_count": 12,
   "id": "9b7abfae",
   "metadata": {},
   "outputs": [
    {
     "data": {
      "text/plain": [
       "(11657, 6)"
      ]
     },
     "execution_count": 12,
     "metadata": {},
     "output_type": "execute_result"
    }
   ],
   "source": [
    "df.shape"
   ]
  },
  {
   "cell_type": "code",
   "execution_count": 13,
   "id": "809fc9cc",
   "metadata": {},
   "outputs": [
    {
     "data": {
      "text/plain": [
       "(11657, 6)"
      ]
     },
     "execution_count": 13,
     "metadata": {},
     "output_type": "execute_result"
    }
   ],
   "source": [
    "df = df.drop_duplicates()\n",
    "df.shape"
   ]
  },
  {
   "cell_type": "markdown",
   "id": "e5ab4adc",
   "metadata": {},
   "source": [
    "it seems like there is no duplicate data on the database"
   ]
  },
  {
   "cell_type": "code",
   "execution_count": 14,
   "id": "78ebcd86",
   "metadata": {},
   "outputs": [
    {
     "name": "stdout",
     "output_type": "stream",
     "text": [
      "<class 'pandas.core.frame.DataFrame'>\n",
      "Int64Index: 11657 entries, 1 to 11657\n",
      "Data columns (total 6 columns):\n",
      " #   Column          Non-Null Count  Dtype \n",
      "---  ------          --------------  ----- \n",
      " 0   mid             11657 non-null  object\n",
      " 1   bookings        11657 non-null  object\n",
      " 2   hoursbooked     11657 non-null  object\n",
      " 3   paidspend       11228 non-null  object\n",
      " 4   promospend      7165 non-null   object\n",
      " 5   paidspend/hour  11657 non-null  object\n",
      "dtypes: object(6)\n",
      "memory usage: 637.5+ KB\n"
     ]
    }
   ],
   "source": [
    "df.info()"
   ]
  },
  {
   "cell_type": "code",
   "execution_count": 15,
   "id": "79f9c525",
   "metadata": {},
   "outputs": [
    {
     "data": {
      "text/plain": [
       "0\n",
       "mid                  0\n",
       "bookings             0\n",
       "hoursbooked          0\n",
       "paidspend          429\n",
       "promospend        4492\n",
       "paidspend/hour       0\n",
       "dtype: int64"
      ]
     },
     "execution_count": 15,
     "metadata": {},
     "output_type": "execute_result"
    }
   ],
   "source": [
    "df.isna().sum()"
   ]
  },
  {
   "cell_type": "markdown",
   "id": "6c198284",
   "metadata": {},
   "source": [
    "most features dont have any null value except paidspend and promospend feature. now we need to replace the null value with 0 in for the sake of data modelling."
   ]
  },
  {
   "cell_type": "code",
   "execution_count": 16,
   "id": "f783d3ad",
   "metadata": {},
   "outputs": [],
   "source": [
    "df['paidspend'].fillna(value='0',inplace=True)"
   ]
  },
  {
   "cell_type": "code",
   "execution_count": 17,
   "id": "826b4dae",
   "metadata": {},
   "outputs": [],
   "source": [
    "df['promospend'].fillna(value='0',inplace=True)"
   ]
  },
  {
   "cell_type": "code",
   "execution_count": 18,
   "id": "d0ed50a6",
   "metadata": {},
   "outputs": [
    {
     "data": {
      "text/plain": [
       "0\n",
       "mid               0\n",
       "bookings          0\n",
       "hoursbooked       0\n",
       "paidspend         0\n",
       "promospend        0\n",
       "paidspend/hour    0\n",
       "dtype: int64"
      ]
     },
     "execution_count": 18,
     "metadata": {},
     "output_type": "execute_result"
    }
   ],
   "source": [
    "df.isna().sum()"
   ]
  },
  {
   "cell_type": "markdown",
   "id": "c7576c51",
   "metadata": {},
   "source": [
    "now there is no null value in our dataframe anymore, we can proceed to the next step"
   ]
  },
  {
   "cell_type": "code",
   "execution_count": 19,
   "id": "09cf0daf",
   "metadata": {},
   "outputs": [
    {
     "name": "stdout",
     "output_type": "stream",
     "text": [
      "mid has [1 2 3 ... 11655 11656 11657] \n",
      "\n",
      "bookings has [17 8 41 52 14 31 46 25 39 48 42 16 22 18 15 32 24 10 34 26 28 19 12 30 1\n",
      " 27 6 4 37 20 7 132 21 3 2 45 23 13 11 9 50 36 29 33 61 94 59 68 35 5 47\n",
      " 60 44 111 83 38 40 108 55 43 71 54] \n",
      "\n",
      "hoursbooked has [1497 1483 1441 1269 1234 1231 1186 1152 1108 1041 1011 1003 978 974 958\n",
      " 942 909 904 895 892 890 877 861 835 805 797 793 776 772 771 762 761 732\n",
      " 730 723 711 702 697 693 688 667 657 656 654 651 643 640 632 631 611 608\n",
      " 607 601 600 597 576 575 570 555 550 529 528 526 525 519 518 516 513 503\n",
      " 500 496 495 494 489 485 483 480 474 472 469 468 466 462 461 459 455 453\n",
      " 450 449 446 444 443 442 441 440 437 434 430 429 426 424 421 417 415 411\n",
      " 410 408 406 403 402 401 399 397 393 390 389 388 386 385 384 381 378 377\n",
      " 376 375 368 367 365 364 361 360 356 355 354 352 349 348 347 344 342 340\n",
      " 337 336 335 334 331 330 329 328 323 322 321 320 319 318 317 315 314 313\n",
      " 312 310 309 308 307 304 302 301 300 299 298 296 295 293 290 289 288 287\n",
      " 286 285 284 283 282 280 278 277 276 275 274 273 272 271 270 269 268 267\n",
      " 266 265 264 263 262 260 259 257 256 254 253 251 249 248 247 246 245 244\n",
      " 242 240 239 237 236 235 234 233 232 231 230 229 228 227 226 225 224 223\n",
      " 222 221 220 219 218 217 216 215 214 213 212 211 210 209 208 207 206 205\n",
      " 204 203 202 201 200 199 198 197 196 195 194 193 192 191 190 189 188 187\n",
      " 186 185 184 183 182 181 180 179 178 177 176 175 174 173 172 171 170 169\n",
      " 168 167 166 165 164 163 162 161 160 159 158 157 156 155 154 153 152 151\n",
      " 150 149 148 147 146 145 144 143 142 141 140 139 138 137 136 135 134 133\n",
      " 132 131 130 129 128 127 126 125 124 123 122 121 120 119 118 117 116 115\n",
      " 114 113 112 111 110 109 108 107 106 105 104 103 102 101 100 99 98 97 96\n",
      " 95 94 93 92 91 90 89 88 87 86 85 84 83 82 81 80 79 78 77 76 75 74 73 72\n",
      " 71 70 69 68 67 66 65 64 63 62 61 60 59 58 57 56 55 54 53 52 51 50 49 48\n",
      " 47 46 45 44 43 42 41 40 39 38 37 36 35 34 33 32 31 30 29 28 27 26 25 24\n",
      " 23 22 21 20 19 18 17 16 15 14 13 12 11 10 9 8 7 6 5 4 3 2 1 0] \n",
      "\n",
      "paidspend has [8169.77 11282.62 6525.24 ... 10.93 25.94 7] \n",
      "\n",
      "promospend has [1804.16 '0' 2288.46 ... 11.5 31.14 13.14] \n",
      "\n",
      "paidspend/hour has [5.4574281897127594 7.607970330411329 4.528272033310201 ... 20.51 29.44\n",
      " 27.72] \n",
      "\n"
     ]
    }
   ],
   "source": [
    "for i in df.columns:\n",
    "    print(i ,'has', df[i].unique(),'\\n')"
   ]
  },
  {
   "cell_type": "code",
   "execution_count": 20,
   "id": "94cad8c7",
   "metadata": {},
   "outputs": [
    {
     "data": {
      "text/plain": [
       "<bound method NDFrame.describe of 0        mid bookings hoursbooked paidspend promospend paidspend/hour\n",
       "1          1       17        1497   8169.77    1804.16       5.457428\n",
       "2          2        8        1483  11282.62          0        7.60797\n",
       "3          3       41        1441   6525.24    2288.46       4.528272\n",
       "4          4       52        1269  12160.09    1298.61       9.582419\n",
       "5          5       14        1234  12630.49    2035.69      10.235405\n",
       "...      ...      ...         ...       ...        ...            ...\n",
       "11653  11653        1           0     10.56          0              0\n",
       "11654  11654        1           0     10.93          0              0\n",
       "11655  11655        3           0     25.94          0              0\n",
       "11656  11656        1           0         7          0              0\n",
       "11657  11657        1           0         0       8.48              0\n",
       "\n",
       "[11657 rows x 6 columns]>"
      ]
     },
     "execution_count": 20,
     "metadata": {},
     "output_type": "execute_result"
    }
   ],
   "source": [
    "df.describe"
   ]
  },
  {
   "cell_type": "code",
   "execution_count": 21,
   "id": "0dcb6842",
   "metadata": {},
   "outputs": [],
   "source": [
    "df=df.rename(columns={'paidspend/hour':'paidspendperhour'})"
   ]
  },
  {
   "cell_type": "code",
   "execution_count": 22,
   "id": "9e179de6",
   "metadata": {},
   "outputs": [
    {
     "data": {
      "text/plain": [
       "<bound method DataFrame.info of 0        mid bookings hoursbooked paidspend promospend paidspendperhour\n",
       "1          1       17        1497   8169.77    1804.16         5.457428\n",
       "2          2        8        1483  11282.62          0          7.60797\n",
       "3          3       41        1441   6525.24    2288.46         4.528272\n",
       "4          4       52        1269  12160.09    1298.61         9.582419\n",
       "5          5       14        1234  12630.49    2035.69        10.235405\n",
       "...      ...      ...         ...       ...        ...              ...\n",
       "11653  11653        1           0     10.56          0                0\n",
       "11654  11654        1           0     10.93          0                0\n",
       "11655  11655        3           0     25.94          0                0\n",
       "11656  11656        1           0         7          0                0\n",
       "11657  11657        1           0         0       8.48                0\n",
       "\n",
       "[11657 rows x 6 columns]>"
      ]
     },
     "execution_count": 22,
     "metadata": {},
     "output_type": "execute_result"
    }
   ],
   "source": [
    "df.info"
   ]
  },
  {
   "cell_type": "markdown",
   "id": "3f1f4a60",
   "metadata": {},
   "source": [
    "# Clustering based on 2 features"
   ]
  },
  {
   "cell_type": "code",
   "execution_count": 23,
   "id": "273dbb08",
   "metadata": {},
   "outputs": [],
   "source": [
    "from sklearn.cluster import KMeans\n",
    "import pickle\n",
    "from mpl_toolkits.mplot3d import Axes3D\n",
    "%matplotlib inline"
   ]
  },
  {
   "cell_type": "code",
   "execution_count": 24,
   "id": "b8af09cb",
   "metadata": {},
   "outputs": [
    {
     "name": "stdout",
     "output_type": "stream",
     "text": [
      "<class 'pandas.core.frame.DataFrame'>\n",
      "Int64Index: 11657 entries, 1 to 11657\n",
      "Data columns (total 6 columns):\n",
      " #   Column            Non-Null Count  Dtype \n",
      "---  ------            --------------  ----- \n",
      " 0   mid               11657 non-null  object\n",
      " 1   bookings          11657 non-null  object\n",
      " 2   hoursbooked       11657 non-null  object\n",
      " 3   paidspend         11657 non-null  object\n",
      " 4   promospend        11657 non-null  object\n",
      " 5   paidspendperhour  11657 non-null  object\n",
      "dtypes: object(6)\n",
      "memory usage: 637.5+ KB\n"
     ]
    }
   ],
   "source": [
    "df.info()"
   ]
  },
  {
   "cell_type": "code",
   "execution_count": 25,
   "id": "e018f681",
   "metadata": {},
   "outputs": [],
   "source": [
    "#We take just the Paidspend/hour and Booking\n",
    "df1=df[[\"mid\",\"bookings\",\"hoursbooked\",\"paidspend\",\"promospend\", \"paidspendperhour\"]]\n",
    "X=df1[[\"paidspendperhour\",\"bookings\"]]"
   ]
  },
  {
   "cell_type": "code",
   "execution_count": 26,
   "id": "b8be586a",
   "metadata": {},
   "outputs": [
    {
     "data": {
      "text/html": [
       "<div>\n",
       "<style scoped>\n",
       "    .dataframe tbody tr th:only-of-type {\n",
       "        vertical-align: middle;\n",
       "    }\n",
       "\n",
       "    .dataframe tbody tr th {\n",
       "        vertical-align: top;\n",
       "    }\n",
       "\n",
       "    .dataframe thead th {\n",
       "        text-align: right;\n",
       "    }\n",
       "</style>\n",
       "<table border=\"1\" class=\"dataframe\">\n",
       "  <thead>\n",
       "    <tr style=\"text-align: right;\">\n",
       "      <th></th>\n",
       "      <th>paidspendperhour</th>\n",
       "      <th>bookings</th>\n",
       "    </tr>\n",
       "  </thead>\n",
       "  <tbody>\n",
       "    <tr>\n",
       "      <th>1</th>\n",
       "      <td>5.457428</td>\n",
       "      <td>17</td>\n",
       "    </tr>\n",
       "    <tr>\n",
       "      <th>2</th>\n",
       "      <td>7.60797</td>\n",
       "      <td>8</td>\n",
       "    </tr>\n",
       "    <tr>\n",
       "      <th>3</th>\n",
       "      <td>4.528272</td>\n",
       "      <td>41</td>\n",
       "    </tr>\n",
       "    <tr>\n",
       "      <th>4</th>\n",
       "      <td>9.582419</td>\n",
       "      <td>52</td>\n",
       "    </tr>\n",
       "    <tr>\n",
       "      <th>5</th>\n",
       "      <td>10.235405</td>\n",
       "      <td>14</td>\n",
       "    </tr>\n",
       "  </tbody>\n",
       "</table>\n",
       "</div>"
      ],
      "text/plain": [
       "0 paidspendperhour bookings\n",
       "1         5.457428       17\n",
       "2          7.60797        8\n",
       "3         4.528272       41\n",
       "4         9.582419       52\n",
       "5        10.235405       14"
      ]
     },
     "execution_count": 26,
     "metadata": {},
     "output_type": "execute_result"
    }
   ],
   "source": [
    "#The input data\n",
    "X.head()"
   ]
  },
  {
   "cell_type": "code",
   "execution_count": 27,
   "id": "f09db232",
   "metadata": {},
   "outputs": [
    {
     "data": {
      "image/png": "[encoded data removed]",
      "text/plain": [
       "<Figure size 720x432 with 1 Axes>"
      ]
     },
     "metadata": {
      "needs_background": "light"
     },
     "output_type": "display_data"
    }
   ],
   "source": [
    "#Scatterplot of the input data\n",
    "plt.figure(figsize=(10,6))\n",
    "sns.scatterplot(x = 'paidspendperhour',y = 'bookings',  data = X  ,s = 60 )\n",
    "plt.xlabel('Avg Amount Paid/hour')\n",
    "plt.ylabel('Number of bookings made') \n",
    "plt.title('Avg Amount Paid/hour vs Number of bookings made')\n",
    "plt.show()"
   ]
  },
  {
   "cell_type": "code",
   "execution_count": 28,
   "id": "2a4d0c27",
   "metadata": {},
   "outputs": [
    {
     "data": {
      "image/png": "[encoded data removed]",
      "text/plain": [
       "<Figure size 720x432 with 1 Axes>"
      ]
     },
     "metadata": {
      "needs_background": "light"
     },
     "output_type": "display_data"
    }
   ],
   "source": [
    "#Scatterplot of the input data\n",
    "plt.figure(figsize=(10,6))\n",
    "sns.scatterplot(x = 'bookings',y = 'paidspendperhour',  data = X  ,s = 60 )\n",
    "plt.xlabel('Number of bookings made')\n",
    "plt.ylabel('Avg Amount Paid/hour') \n",
    "plt.title('Avg Amount Paid/hour vs Number of bookings made')\n",
    "plt.show()"
   ]
  },
  {
   "cell_type": "code",
   "execution_count": 29,
   "id": "a65fa052",
   "metadata": {},
   "outputs": [],
   "source": [
    "wcss=[]\n",
    "for i in range(1,11):\n",
    "    km=KMeans(n_clusters=i)\n",
    "    km.fit(X)\n",
    "    wcss.append(km.inertia_)"
   ]
  },
  {
   "cell_type": "code",
   "execution_count": 30,
   "id": "ae7f9bef",
   "metadata": {},
   "outputs": [
    {
     "data": {
      "image/png": "[encoded data removed]",
      "text/plain": [
       "<Figure size 864x432 with 1 Axes>"
      ]
     },
     "metadata": {
      "needs_background": "light"
     },
     "output_type": "display_data"
    }
   ],
   "source": [
    "#The elbow curve\n",
    "plt.figure(figsize=(12,6))\n",
    "plt.plot(range(1,11),wcss)\n",
    "plt.plot(range(1,11),wcss, linewidth=2, color=\"red\", marker =\"8\")\n",
    "plt.xlabel(\"K Value\")\n",
    "plt.xticks(np.arange(1,11,1))\n",
    "plt.ylabel(\"WCSS\")\n",
    "plt.show()"
   ]
  },
  {
   "cell_type": "markdown",
   "id": "fd7b4c42",
   "metadata": {},
   "source": [
    "This is known as the elbow graph, the x-axis being the number of clusters, the number of clusters is taken at the elbow joint point. This point is the point where making clusters is most relevant as here the value of WCSS suddenly stops decreasing. Here in the graph, after 5 the drop is minimal, so we take 5 to be the number of clusters."
   ]
  },
  {
   "cell_type": "code",
   "execution_count": 31,
   "id": "b70408a6",
   "metadata": {},
   "outputs": [
    {
     "data": {
      "text/html": [
       "<div>\n",
       "<style scoped>\n",
       "    .dataframe tbody tr th:only-of-type {\n",
       "        vertical-align: middle;\n",
       "    }\n",
       "\n",
       "    .dataframe tbody tr th {\n",
       "        vertical-align: top;\n",
       "    }\n",
       "\n",
       "    .dataframe thead th {\n",
       "        text-align: right;\n",
       "    }\n",
       "</style>\n",
       "<table border=\"1\" class=\"dataframe\">\n",
       "  <thead>\n",
       "    <tr style=\"text-align: right;\">\n",
       "      <th></th>\n",
       "      <th>mid</th>\n",
       "      <th>bookings</th>\n",
       "      <th>hoursbooked</th>\n",
       "      <th>paidspend</th>\n",
       "      <th>promospend</th>\n",
       "      <th>paidspendperhour</th>\n",
       "      <th>label</th>\n",
       "    </tr>\n",
       "  </thead>\n",
       "  <tbody>\n",
       "    <tr>\n",
       "      <th>1</th>\n",
       "      <td>1</td>\n",
       "      <td>17</td>\n",
       "      <td>1497</td>\n",
       "      <td>8169.77</td>\n",
       "      <td>1804.16</td>\n",
       "      <td>5.457428</td>\n",
       "      <td>4</td>\n",
       "    </tr>\n",
       "    <tr>\n",
       "      <th>2</th>\n",
       "      <td>2</td>\n",
       "      <td>8</td>\n",
       "      <td>1483</td>\n",
       "      <td>11282.62</td>\n",
       "      <td>0</td>\n",
       "      <td>7.60797</td>\n",
       "      <td>0</td>\n",
       "    </tr>\n",
       "    <tr>\n",
       "      <th>3</th>\n",
       "      <td>3</td>\n",
       "      <td>41</td>\n",
       "      <td>1441</td>\n",
       "      <td>6525.24</td>\n",
       "      <td>2288.46</td>\n",
       "      <td>4.528272</td>\n",
       "      <td>4</td>\n",
       "    </tr>\n",
       "    <tr>\n",
       "      <th>4</th>\n",
       "      <td>4</td>\n",
       "      <td>52</td>\n",
       "      <td>1269</td>\n",
       "      <td>12160.09</td>\n",
       "      <td>1298.61</td>\n",
       "      <td>9.582419</td>\n",
       "      <td>4</td>\n",
       "    </tr>\n",
       "    <tr>\n",
       "      <th>5</th>\n",
       "      <td>5</td>\n",
       "      <td>14</td>\n",
       "      <td>1234</td>\n",
       "      <td>12630.49</td>\n",
       "      <td>2035.69</td>\n",
       "      <td>10.235405</td>\n",
       "      <td>4</td>\n",
       "    </tr>\n",
       "  </tbody>\n",
       "</table>\n",
       "</div>"
      ],
      "text/plain": [
       "0 mid bookings hoursbooked paidspend promospend paidspendperhour  label\n",
       "1   1       17        1497   8169.77    1804.16         5.457428      4\n",
       "2   2        8        1483  11282.62          0          7.60797      0\n",
       "3   3       41        1441   6525.24    2288.46         4.528272      4\n",
       "4   4       52        1269  12160.09    1298.61         9.582419      4\n",
       "5   5       14        1234  12630.49    2035.69        10.235405      4"
      ]
     },
     "execution_count": 31,
     "metadata": {},
     "output_type": "execute_result"
    }
   ],
   "source": [
    "#Taking 5 clusters\n",
    "km1=KMeans(n_clusters=5)\n",
    "#Fitting the input data\n",
    "km1.fit(X)\n",
    "#predicting the labels of the input data\n",
    "y=km1.predict(X)\n",
    "#adding the labels to a column named label\n",
    "df1[\"label\"] = y\n",
    "#The new dataframe with the clustering done\n",
    "df1.head()"
   ]
  },
  {
   "cell_type": "code",
   "execution_count": 39,
   "id": "a380b552",
   "metadata": {},
   "outputs": [
    {
     "data": {
      "image/png": "[encoded data removed]",
      "text/plain": [
       "<Figure size 720x432 with 1 Axes>"
      ]
     },
     "metadata": {
      "needs_background": "light"
     },
     "output_type": "display_data"
    }
   ],
   "source": [
    "#Scatterplot of the clusters\n",
    "plt.figure(figsize=(10,6))\n",
    "sns.scatterplot(x = 'paidspendperhour',y = 'bookings',hue=\"label\",  \n",
    "                 palette=['green','orange','brown','dodgerblue','red'], legend='full',data = df1  ,s = 60 )\n",
    "plt.xlabel('Avg Amount Paid/hour')\n",
    "plt.ylabel('Number of bookings made') \n",
    "plt.title('Avg Amount Paid/hour vs Number of bookings made')\n",
    "plt.show()"
   ]
  },
  {
   "cell_type": "code",
   "execution_count": 40,
   "id": "d1a4b4db",
   "metadata": {},
   "outputs": [
    {
     "name": "stdout",
     "output_type": "stream",
     "text": [
      "Number of customer in 1st group= 1\n",
      "They are - [10247]\n",
      "--------------------------------------------\n",
      "Number of customer in 2nd group= 1878\n",
      "They are - [105 465 480 ... 11557 11560 11562]\n",
      "--------------------------------------------\n",
      "Number of customer in 3rd group= 9017\n",
      "They are - [2 24 36 ... 11655 11656 11657]\n",
      "--------------------------------------------\n",
      "Number of customer in 4th group= 13\n",
      "They are - [7538 8081 8981 9975 10150 10252 10274 10920 11190 11358 11511 11517 11539]\n",
      "--------------------------------------------\n",
      "Number of customer in 5th group= 748\n",
      "They are - [1 3 4 5 6 7 8 9 10 11 12 13 14 15 16 17 18 19 20 21 22 23 25 26 27 28 29\n",
      " 30 31 32 33 34 35 37 38 40 41 43 44 45 47 48 49 50 51 53 54 55 56 59 60\n",
      " 61 62 64 65 66 67 69 70 71 72 73 75 77 79 80 82 83 84 85 86 88 89 90 91\n",
      " 94 95 96 97 99 100 101 102 103 104 106 107 108 109 110 111 112 113 115\n",
      " 117 118 122 124 125 126 128 130 132 133 134 135 136 137 138 139 141 142\n",
      " 143 144 145 146 147 148 150 151 153 154 155 156 157 158 159 161 162 164\n",
      " 167 168 169 170 171 173 174 175 176 177 179 180 182 183 186 187 188 192\n",
      " 193 194 195 196 197 198 199 200 201 202 204 205 206 207 208 213 214 215\n",
      " 216 217 218 219 220 222 224 225 226 227 228 229 231 232 234 237 238 242\n",
      " 246 248 249 251 253 254 255 256 259 264 265 269 273 275 276 279 280 281\n",
      " 284 285 289 290 291 292 293 294 296 297 298 299 301 302 305 307 308 309\n",
      " 310 311 312 313 318 322 325 326 327 328 329 331 335 337 338 341 345 346\n",
      " 348 350 359 362 363 364 365 366 369 370 376 377 382 388 389 393 394 398\n",
      " 400 404 407 408 410 411 413 414 416 417 418 419 422 423 428 431 432 435\n",
      " 440 443 445 447 448 450 451 452 455 456 461 463 464 466 467 470 473 474\n",
      " 479 488 489 490 491 496 501 505 507 509 510 512 521 525 527 530 531 536\n",
      " 538 544 556 559 561 564 565 566 567 571 574 576 577 578 582 583 584 585\n",
      " 586 589 591 592 594 595 596 600 607 609 611 612 613 615 617 618 621 623\n",
      " 625 626 627 631 637 643 644 647 648 656 663 665 671 672 675 676 684 686\n",
      " 695 696 699 701 705 706 710 715 722 723 724 725 728 731 733 734 735 736\n",
      " 737 739 740 743 744 745 747 748 751 753 754 758 760 762 765 768 771 776\n",
      " 779 780 781 782 796 797 799 808 809 813 814 815 818 821 825 830 832 835\n",
      " 836 838 840 843 847 854 863 864 873 882 884 887 893 902 905 908 909 910\n",
      " 911 916 919 923 926 932 934 935 936 941 945 946 948 950 952 958 959 965\n",
      " 968 969 971 973 974 976 980 985 998 1000 1003 1004 1005 1008 1009 1011\n",
      " 1031 1032 1034 1035 1039 1042 1050 1057 1065 1068 1069 1085 1087 1089\n",
      " 1096 1104 1114 1120 1121 1122 1123 1125 1129 1138 1139 1140 1143 1145\n",
      " 1180 1195 1202 1204 1216 1234 1248 1251 1257 1261 1269 1270 1273 1279\n",
      " 1291 1299 1305 1308 1310 1313 1314 1320 1322 1323 1329 1330 1336 1348\n",
      " 1351 1359 1360 1361 1374 1375 1378 1385 1401 1402 1407 1409 1412 1424\n",
      " 1429 1430 1432 1437 1448 1451 1454 1455 1462 1466 1472 1475 1476 1499\n",
      " 1514 1516 1522 1527 1534 1540 1558 1566 1570 1578 1588 1610 1611 1615\n",
      " 1625 1655 1708 1709 1713 1721 1728 1734 1738 1767 1789 1790 1798 1802\n",
      " 1829 1830 1834 1838 1842 1850 1854 1859 1861 1863 1868 1876 1877 1886\n",
      " 1888 1894 1929 1933 1940 1942 1951 1978 1980 1984 1995 2002 2005 2024\n",
      " 2027 2030 2038 2041 2046 2052 2055 2061 2063 2067 2135 2149 2157 2193\n",
      " 2195 2234 2244 2245 2253 2264 2267 2272 2276 2278 2285 2297 2305 2313\n",
      " 2326 2334 2356 2363 2371 2373 2376 2377 2384 2402 2406 2415 2426 2427\n",
      " 2430 2433 2453 2462 2463 2531 2547 2597 2599 2636 2671 2677 2682 2691\n",
      " 2751 2770 2799 2821 2827 2848 2861 2869 2886 2905 2912 2921 2936 2960\n",
      " 2993 3002 3007 3010 3015 3023 3041 3042 3046 3048 3050 3061 3070 3084\n",
      " 3088 3101 3104 3115 3151 3195 3202 3206 3209 3211 3219 3241 3272 3316\n",
      " 3351 3398 3431 3448 3461 3495 3532 3565 3577 3581 3706 3712 3760 3816\n",
      " 3986 4023 4075 4076 4107 4110 4138 4157 4162 4279 4341 4442 4481 4490\n",
      " 4649 4659 4773 4871 5132 5283 5648 5782 6056 6434 6563 6570]\n",
      "--------------------------------------------\n"
     ]
    }
   ],
   "source": [
    "cust1=df1[df1[\"label\"]==1]\n",
    "print('Number of customer in 1st group=', len(cust1))\n",
    "print('They are -', cust1[\"mid\"].values)\n",
    "print(\"--------------------------------------------\")\n",
    "cust2=df1[df1[\"label\"]==2]\n",
    "print('Number of customer in 2nd group=', len(cust2))\n",
    "print('They are -', cust2[\"mid\"].values)\n",
    "print(\"--------------------------------------------\")\n",
    "cust3=df1[df1[\"label\"]==0]\n",
    "print('Number of customer in 3rd group=', len(cust3))\n",
    "print('They are -', cust3[\"mid\"].values)\n",
    "print(\"--------------------------------------------\")\n",
    "cust4=df1[df1[\"label\"]==3]\n",
    "print('Number of customer in 4th group=', len(cust4))\n",
    "print('They are -', cust4[\"mid\"].values)\n",
    "print(\"--------------------------------------------\")\n",
    "cust5=df1[df1[\"label\"]==4]\n",
    "print('Number of customer in 5th group=', len(cust5))\n",
    "print('They are -', cust5[\"mid\"].values)\n",
    "print(\"--------------------------------------------\")"
   ]
  },
  {
   "cell_type": "markdown",
   "id": "483b2ddd",
   "metadata": {},
   "source": [
    "We can clearly see that 5 different clusters have been formed from the data. The green cluster is the customers with the least number of booking and least avg amount paid/hour.\n",
    "\n",
    "similarly, the blue cluster is the customers with the most avg amount paid/hour but small number of booking made.\n",
    "\n",
    "we can also see the red cluster is the customer with the most number of booking made but among the lowest avg amount paid/hour"
   ]
  },
  {
   "cell_type": "markdown",
   "id": "81b456e0",
   "metadata": {},
   "source": [
    "# k-Means Clustering on the basis of 3D data"
   ]
  },
  {
   "cell_type": "markdown",
   "id": "f0191491",
   "metadata": {},
   "source": [
    "Now, we shall be working on 3 types of data. Apart from the bookings and paidspendperhour, we shall also take in the promospend."
   ]
  },
  {
   "cell_type": "code",
   "execution_count": 33,
   "id": "e9015481",
   "metadata": {},
   "outputs": [],
   "source": [
    "#Taking the features\n",
    "df2=df[[\"mid\",\"bookings\",\"hoursbooked\",\"paidspend\",\"promospend\", \"paidspendperhour\"]]\n",
    "X2=df2[[\"hoursbooked\",\"paidspendperhour\",\"bookings\"]]"
   ]
  },
  {
   "cell_type": "code",
   "execution_count": 34,
   "id": "b38f8f9f",
   "metadata": {},
   "outputs": [
    {
     "data": {
      "image/png": "[encoded data removed]",
      "text/plain": [
       "<Figure size 864x432 with 1 Axes>"
      ]
     },
     "metadata": {
      "needs_background": "light"
     },
     "output_type": "display_data"
    }
   ],
   "source": [
    "#Now we calculate the Within Cluster Sum of Squared Errors (WSS) for different values of k.\n",
    "wcss = []\n",
    "for k in range(1,11):\n",
    "    kmeans = KMeans(n_clusters=k, init=\"k-means++\")\n",
    "    kmeans.fit(X2)\n",
    "    wcss.append(kmeans.inertia_)\n",
    "plt.figure(figsize=(12,6))    \n",
    "plt.plot(range(1,11),wcss, linewidth=2, color=\"red\", marker =\"8\")\n",
    "plt.xlabel(\"K Value\")\n",
    "plt.xticks(np.arange(1,11,1))\n",
    "plt.ylabel(\"WCSS\")\n",
    "plt.show()"
   ]
  },
  {
   "cell_type": "markdown",
   "id": "c37baaff",
   "metadata": {},
   "source": [
    "Here can assume that K=5 will be a good value"
   ]
  },
  {
   "cell_type": "code",
   "execution_count": 35,
   "id": "9531905e",
   "metadata": {},
   "outputs": [
    {
     "data": {
      "text/html": [
       "<div>\n",
       "<style scoped>\n",
       "    .dataframe tbody tr th:only-of-type {\n",
       "        vertical-align: middle;\n",
       "    }\n",
       "\n",
       "    .dataframe tbody tr th {\n",
       "        vertical-align: top;\n",
       "    }\n",
       "\n",
       "    .dataframe thead th {\n",
       "        text-align: right;\n",
       "    }\n",
       "</style>\n",
       "<table border=\"1\" class=\"dataframe\">\n",
       "  <thead>\n",
       "    <tr style=\"text-align: right;\">\n",
       "      <th></th>\n",
       "      <th>mid</th>\n",
       "      <th>bookings</th>\n",
       "      <th>hoursbooked</th>\n",
       "      <th>paidspend</th>\n",
       "      <th>promospend</th>\n",
       "      <th>paidspendperhour</th>\n",
       "      <th>label</th>\n",
       "    </tr>\n",
       "  </thead>\n",
       "  <tbody>\n",
       "    <tr>\n",
       "      <th>1</th>\n",
       "      <td>1</td>\n",
       "      <td>17</td>\n",
       "      <td>1497</td>\n",
       "      <td>8169.77</td>\n",
       "      <td>1804.16</td>\n",
       "      <td>5.457428</td>\n",
       "      <td>7</td>\n",
       "    </tr>\n",
       "    <tr>\n",
       "      <th>2</th>\n",
       "      <td>2</td>\n",
       "      <td>8</td>\n",
       "      <td>1483</td>\n",
       "      <td>11282.62</td>\n",
       "      <td>0</td>\n",
       "      <td>7.60797</td>\n",
       "      <td>7</td>\n",
       "    </tr>\n",
       "    <tr>\n",
       "      <th>3</th>\n",
       "      <td>3</td>\n",
       "      <td>41</td>\n",
       "      <td>1441</td>\n",
       "      <td>6525.24</td>\n",
       "      <td>2288.46</td>\n",
       "      <td>4.528272</td>\n",
       "      <td>7</td>\n",
       "    </tr>\n",
       "    <tr>\n",
       "      <th>4</th>\n",
       "      <td>4</td>\n",
       "      <td>52</td>\n",
       "      <td>1269</td>\n",
       "      <td>12160.09</td>\n",
       "      <td>1298.61</td>\n",
       "      <td>9.582419</td>\n",
       "      <td>7</td>\n",
       "    </tr>\n",
       "    <tr>\n",
       "      <th>5</th>\n",
       "      <td>5</td>\n",
       "      <td>14</td>\n",
       "      <td>1234</td>\n",
       "      <td>12630.49</td>\n",
       "      <td>2035.69</td>\n",
       "      <td>10.235405</td>\n",
       "      <td>7</td>\n",
       "    </tr>\n",
       "  </tbody>\n",
       "</table>\n",
       "</div>"
      ],
      "text/plain": [
       "0 mid bookings hoursbooked paidspend promospend paidspendperhour  label\n",
       "1   1       17        1497   8169.77    1804.16         5.457428      7\n",
       "2   2        8        1483  11282.62          0          7.60797      7\n",
       "3   3       41        1441   6525.24    2288.46         4.528272      7\n",
       "4   4       52        1269  12160.09    1298.61         9.582419      7\n",
       "5   5       14        1234  12630.49    2035.69        10.235405      7"
      ]
     },
     "execution_count": 35,
     "metadata": {},
     "output_type": "execute_result"
    }
   ],
   "source": [
    "#We choose the k for which WSS starts to diminish\n",
    "km2 = KMeans(n_clusters=5)\n",
    "y2 = km.fit_predict(X2)\n",
    "df2[\"label\"] = y2\n",
    "#The data with labels\n",
    "df2.head()"
   ]
  },
  {
   "cell_type": "code",
   "execution_count": 37,
   "id": "728a1b7c",
   "metadata": {},
   "outputs": [
    {
     "data": {
      "image/png": "[encoded data removed]",
      "text/plain": [
       "<Figure size 1440x720 with 1 Axes>"
      ]
     },
     "metadata": {
      "needs_background": "light"
     },
     "output_type": "display_data"
    }
   ],
   "source": [
    "#3D Plot as we did the clustering on the basis of 3 input features\n",
    "fig = plt.figure(figsize=(20,10))\n",
    "ax = fig.add_subplot(111, projection='3d')\n",
    "ax.scatter(df2.hoursbooked[df2.label == 0], df2[\"paidspendperhour\"][df2.label == 0], df2[\"bookings\"][df2.label == 0], c='purple', s=60)\n",
    "ax.scatter(df2.hoursbooked[df2.label == 1], df2[\"paidspendperhour\"][df2.label == 1], df2[\"bookings\"][df2.label == 1], c='red', s=60)\n",
    "ax.scatter(df2.hoursbooked[df2.label == 2], df2[\"paidspendperhour\"][df2.label == 2], df2[\"bookings\"][df2.label == 2], c='blue', s=60)\n",
    "ax.scatter(df2.hoursbooked[df2.label == 3], df2[\"paidspendperhour\"][df2.label == 3], df2[\"bookings\"][df2.label == 3], c='green', s=60)\n",
    "ax.scatter(df2.hoursbooked[df2.label == 4], df2[\"paidspendperhour\"][df2.label == 4], df2[\"bookings\"][df2.label == 4], c='yellow', s=60)\n",
    "ax.view_init(35, 185)\n",
    "plt.xlabel(\"Number of hours booked\")\n",
    "plt.ylabel(\"Avg Amount Spend per hour\")\n",
    "ax.set_zlabel('Numbers of booking made')\n",
    "plt.show()"
   ]
  },
  {
   "cell_type": "code",
   "execution_count": 38,
   "id": "54025da5",
   "metadata": {},
   "outputs": [
    {
     "name": "stdout",
     "output_type": "stream",
     "text": [
      "Number of customer in 1st group= 117\n",
      "They are - [74 75 76 77 78 79 80 81 82 83 84 85 86 87 88 89 90 91 92 93 94 95 96 97\n",
      " 98 99 100 101 102 103 104 105 106 107 108 109 110 111 112 113 114 115 116\n",
      " 117 118 119 120 121 122 123 124 125 126 127 128 129 130 131 132 133 134\n",
      " 135 136 137 138 139 140 141 142 143 144 145 146 147 148 149 150 151 152\n",
      " 153 154 155 156 157 158 159 160 161 162 163 164 165 166 167 168 169 170\n",
      " 171 172 173 174 175 176 177 178 179 180 181 182 183 184 185 186 187 188\n",
      " 189 190]\n",
      "--------------------------------------------\n",
      "Number of customer in 2nd group= 23\n",
      "They are - [10 11 12 13 14 15 16 17 18 19 20 21 22 23 24 25 26 27 28 29 30 31 32]\n",
      "--------------------------------------------\n",
      "Number of customer in 3rd group= 2922\n",
      "They are - [2231 2232 2233 ... 5193 5194 5229]\n",
      "--------------------------------------------\n",
      "Number of customer in 4th group= 523\n",
      "They are - [424 425 426 427 428 429 430 431 432 433 434 435 436 437 438 439 440 441\n",
      " 442 443 444 445 446 447 448 449 450 451 452 453 454 455 456 457 458 459\n",
      " 460 461 462 463 464 465 466 467 468 469 470 471 472 473 474 475 476 477\n",
      " 478 479 480 481 482 483 484 485 486 487 488 489 490 491 492 493 494 495\n",
      " 496 497 498 499 500 501 502 503 504 505 506 507 508 509 510 511 512 513\n",
      " 514 515 516 517 518 519 520 521 522 523 524 525 526 527 528 529 530 531\n",
      " 532 533 534 535 536 537 538 539 540 541 542 543 544 545 546 547 548 549\n",
      " 550 551 552 553 554 555 556 557 558 559 560 561 562 563 564 565 566 567\n",
      " 568 569 570 571 572 573 574 575 576 577 578 579 580 581 582 583 584 585\n",
      " 586 587 588 589 590 591 592 593 594 595 596 597 598 599 600 601 602 603\n",
      " 604 605 606 607 608 609 610 611 612 613 614 615 616 617 618 619 620 621\n",
      " 622 623 624 625 626 627 628 629 630 631 632 633 634 635 636 637 638 639\n",
      " 640 641 642 643 644 645 646 647 648 649 650 651 652 653 654 655 656 657\n",
      " 658 659 660 661 662 663 664 665 666 667 668 669 670 671 672 673 674 675\n",
      " 676 677 678 679 680 681 682 683 684 685 686 687 688 689 690 691 692 693\n",
      " 694 695 696 697 698 699 700 701 702 703 704 705 706 707 708 709 710 711\n",
      " 712 713 714 715 716 717 718 719 720 721 722 723 724 725 726 727 728 729\n",
      " 730 731 732 733 734 735 736 737 738 739 740 741 742 743 744 745 746 747\n",
      " 748 749 750 751 752 753 754 755 756 757 758 759 760 761 762 763 764 765\n",
      " 766 767 768 769 770 771 772 773 774 775 776 777 778 779 780 781 782 783\n",
      " 784 785 786 787 788 789 790 791 792 793 794 795 796 797 798 799 800 801\n",
      " 802 803 804 805 806 807 808 809 810 811 812 813 814 815 816 817 818 819\n",
      " 820 821 822 823 824 825 826 827 828 829 830 831 832 833 834 835 836 837\n",
      " 838 839 840 841 842 843 844 845 846 847 848 849 850 851 852 853 854 855\n",
      " 856 857 858 859 860 861 862 863 864 865 866 867 868 869 870 871 872 873\n",
      " 874 875 876 877 878 879 880 881 882 883 884 885 886 887 888 889 890 891\n",
      " 892 893 894 895 896 897 898 899 900 901 902 903 904 905 906 907 908 909\n",
      " 910 911 912 913 914 915 916 917 918 919 920 921 922 923 924 925 926 927\n",
      " 928 929 930 931 932 933 934 935 936 938 940 941 945 946 950 952 958 959\n",
      " 971]\n",
      "--------------------------------------------\n",
      "Number of customer in 5th group= 6496\n",
      "They are - [4559 4875 4902 ... 11655 11656 11657]\n",
      "--------------------------------------------\n"
     ]
    }
   ],
   "source": [
    "cust1=df2[df2[\"label\"]==1]\n",
    "print('Number of customer in 1st group=', len(cust1))\n",
    "print('They are -', cust1[\"mid\"].values)\n",
    "print(\"--------------------------------------------\")\n",
    "cust2=df2[df2[\"label\"]==2]\n",
    "print('Number of customer in 2nd group=', len(cust2))\n",
    "print('They are -', cust2[\"mid\"].values)\n",
    "print(\"--------------------------------------------\")\n",
    "cust3=df2[df2[\"label\"]==0]\n",
    "print('Number of customer in 3rd group=', len(cust3))\n",
    "print('They are -', cust3[\"mid\"].values)\n",
    "print(\"--------------------------------------------\")\n",
    "cust4=df2[df2[\"label\"]==3]\n",
    "print('Number of customer in 4th group=', len(cust4))\n",
    "print('They are -', cust4[\"mid\"].values)\n",
    "print(\"--------------------------------------------\")\n",
    "cust5=df2[df2[\"label\"]==4]\n",
    "print('Number of customer in 5th group=', len(cust5))\n",
    "print('They are -', cust5[\"mid\"].values)\n",
    "print(\"--------------------------------------------\")"
   ]
  },
  {
   "cell_type": "code",
   "execution_count": 42,
   "id": "4dff99c8",
   "metadata": {},
   "outputs": [
    {
     "data": {
      "text/html": [
       "<div>\n",
       "<style scoped>\n",
       "    .dataframe tbody tr th:only-of-type {\n",
       "        vertical-align: middle;\n",
       "    }\n",
       "\n",
       "    .dataframe tbody tr th {\n",
       "        vertical-align: top;\n",
       "    }\n",
       "\n",
       "    .dataframe thead th {\n",
       "        text-align: right;\n",
       "    }\n",
       "</style>\n",
       "<table border=\"1\" class=\"dataframe\">\n",
       "  <thead>\n",
       "    <tr style=\"text-align: right;\">\n",
       "      <th></th>\n",
       "      <th>mid</th>\n",
       "      <th>bookings</th>\n",
       "      <th>hoursbooked</th>\n",
       "      <th>paidspend</th>\n",
       "      <th>promospend</th>\n",
       "      <th>paidspendperhour</th>\n",
       "      <th>label</th>\n",
       "    </tr>\n",
       "  </thead>\n",
       "  <tbody>\n",
       "    <tr>\n",
       "      <th>1</th>\n",
       "      <td>1</td>\n",
       "      <td>17</td>\n",
       "      <td>1497</td>\n",
       "      <td>8169.77</td>\n",
       "      <td>1804.16</td>\n",
       "      <td>5.457428</td>\n",
       "      <td>4</td>\n",
       "    </tr>\n",
       "    <tr>\n",
       "      <th>2</th>\n",
       "      <td>2</td>\n",
       "      <td>8</td>\n",
       "      <td>1483</td>\n",
       "      <td>11282.62</td>\n",
       "      <td>0</td>\n",
       "      <td>7.60797</td>\n",
       "      <td>0</td>\n",
       "    </tr>\n",
       "    <tr>\n",
       "      <th>3</th>\n",
       "      <td>3</td>\n",
       "      <td>41</td>\n",
       "      <td>1441</td>\n",
       "      <td>6525.24</td>\n",
       "      <td>2288.46</td>\n",
       "      <td>4.528272</td>\n",
       "      <td>4</td>\n",
       "    </tr>\n",
       "    <tr>\n",
       "      <th>4</th>\n",
       "      <td>4</td>\n",
       "      <td>52</td>\n",
       "      <td>1269</td>\n",
       "      <td>12160.09</td>\n",
       "      <td>1298.61</td>\n",
       "      <td>9.582419</td>\n",
       "      <td>4</td>\n",
       "    </tr>\n",
       "    <tr>\n",
       "      <th>5</th>\n",
       "      <td>5</td>\n",
       "      <td>14</td>\n",
       "      <td>1234</td>\n",
       "      <td>12630.49</td>\n",
       "      <td>2035.69</td>\n",
       "      <td>10.235405</td>\n",
       "      <td>4</td>\n",
       "    </tr>\n",
       "  </tbody>\n",
       "</table>\n",
       "</div>"
      ],
      "text/plain": [
       "0 mid bookings hoursbooked paidspend promospend paidspendperhour  label\n",
       "1   1       17        1497   8169.77    1804.16         5.457428      4\n",
       "2   2        8        1483  11282.62          0          7.60797      0\n",
       "3   3       41        1441   6525.24    2288.46         4.528272      4\n",
       "4   4       52        1269  12160.09    1298.61         9.582419      4\n",
       "5   5       14        1234  12630.49    2035.69        10.235405      4"
      ]
     },
     "execution_count": 42,
     "metadata": {},
     "output_type": "execute_result"
    }
   ],
   "source": [
    "df1.head()"
   ]
  },
  {
   "cell_type": "code",
   "execution_count": 43,
   "id": "e5a138cb",
   "metadata": {},
   "outputs": [
    {
     "data": {
      "text/html": [
       "<div>\n",
       "<style scoped>\n",
       "    .dataframe tbody tr th:only-of-type {\n",
       "        vertical-align: middle;\n",
       "    }\n",
       "\n",
       "    .dataframe tbody tr th {\n",
       "        vertical-align: top;\n",
       "    }\n",
       "\n",
       "    .dataframe thead th {\n",
       "        text-align: right;\n",
       "    }\n",
       "</style>\n",
       "<table border=\"1\" class=\"dataframe\">\n",
       "  <thead>\n",
       "    <tr style=\"text-align: right;\">\n",
       "      <th></th>\n",
       "      <th>mid</th>\n",
       "      <th>bookings</th>\n",
       "      <th>hoursbooked</th>\n",
       "      <th>paidspend</th>\n",
       "      <th>promospend</th>\n",
       "      <th>paidspendperhour</th>\n",
       "      <th>label</th>\n",
       "    </tr>\n",
       "  </thead>\n",
       "  <tbody>\n",
       "    <tr>\n",
       "      <th>1</th>\n",
       "      <td>1</td>\n",
       "      <td>17</td>\n",
       "      <td>1497</td>\n",
       "      <td>8169.77</td>\n",
       "      <td>1804.16</td>\n",
       "      <td>5.457428</td>\n",
       "      <td>7</td>\n",
       "    </tr>\n",
       "    <tr>\n",
       "      <th>2</th>\n",
       "      <td>2</td>\n",
       "      <td>8</td>\n",
       "      <td>1483</td>\n",
       "      <td>11282.62</td>\n",
       "      <td>0</td>\n",
       "      <td>7.60797</td>\n",
       "      <td>7</td>\n",
       "    </tr>\n",
       "    <tr>\n",
       "      <th>3</th>\n",
       "      <td>3</td>\n",
       "      <td>41</td>\n",
       "      <td>1441</td>\n",
       "      <td>6525.24</td>\n",
       "      <td>2288.46</td>\n",
       "      <td>4.528272</td>\n",
       "      <td>7</td>\n",
       "    </tr>\n",
       "    <tr>\n",
       "      <th>4</th>\n",
       "      <td>4</td>\n",
       "      <td>52</td>\n",
       "      <td>1269</td>\n",
       "      <td>12160.09</td>\n",
       "      <td>1298.61</td>\n",
       "      <td>9.582419</td>\n",
       "      <td>7</td>\n",
       "    </tr>\n",
       "    <tr>\n",
       "      <th>5</th>\n",
       "      <td>5</td>\n",
       "      <td>14</td>\n",
       "      <td>1234</td>\n",
       "      <td>12630.49</td>\n",
       "      <td>2035.69</td>\n",
       "      <td>10.235405</td>\n",
       "      <td>7</td>\n",
       "    </tr>\n",
       "  </tbody>\n",
       "</table>\n",
       "</div>"
      ],
      "text/plain": [
       "0 mid bookings hoursbooked paidspend promospend paidspendperhour  label\n",
       "1   1       17        1497   8169.77    1804.16         5.457428      7\n",
       "2   2        8        1483  11282.62          0          7.60797      7\n",
       "3   3       41        1441   6525.24    2288.46         4.528272      7\n",
       "4   4       52        1269  12160.09    1298.61         9.582419      7\n",
       "5   5       14        1234  12630.49    2035.69        10.235405      7"
      ]
     },
     "execution_count": 43,
     "metadata": {},
     "output_type": "execute_result"
    }
   ],
   "source": [
    "df2.head()"
   ]
  },
  {
   "cell_type": "markdown",
   "id": "d9fb6f22",
   "metadata": {},
   "source": [
    "group 5, the yellow one has higherst avg amount paid per hour, but among the lowest number of bookings\n",
    "group 1, the purple one has the lowest amount paid per hour and also lowest number of bookings\n"
   ]
  },
  {
   "cell_type": "markdown",
   "id": "ba683fea",
   "metadata": {},
   "source": [
    "How would the above analysis impact your pricing / promo strategy for\n",
    "a. new users\n",
    "for new user, i would suggest to give more promos to them in order to encourage them to book the company at higher frequency/number. it is also worth considering to give promotions to the user for higher end class facility with a discount in order to promote retain of customers. \n",
    "\n",
    "b. existing users\n",
    "for existing user, i would like to suggest that the company focus on attracting group 5 as they represent the biggest sample population 6496 total user which is majority of the user of the company. they also has highest avg amount paid per hour, if we can increase their number of bookings, we can drive up our revenue significantly. \n",
    "\n",
    "c. churned users\n",
    "as we can see from the finding, we only has 117 churned user which when compared to the whole population, it is relatively small. it may be good to try to find long term solution for the churned user, but there is not much worthy investment should be made to cater to them."
   ]
  }
 ],
 "metadata": {
  "kernelspec": {
   "display_name": "Python 3",
   "language": "python",
   "name": "python3"
  },
  "language_info": {
   "codemirror_mode": {
    "name": "ipython",
    "version": 3
   },
   "file_extension": ".py",
   "mimetype": "text/x-python",
   "name": "python",
   "nbconvert_exporter": "python",
   "pygments_lexer": "ipython3",
   "version": "3.8.8"
  }
 },
 "nbformat": 4,
 "nbformat_minor": 5
}
